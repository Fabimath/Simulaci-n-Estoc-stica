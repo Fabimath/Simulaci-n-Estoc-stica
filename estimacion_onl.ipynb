{
 "cells": [
  {
   "cell_type": "markdown",
   "metadata": {},
   "source": [
    "# Códigos de estimación y simulación"
   ]
  },
  {
   "cell_type": "code",
   "execution_count": 291,
   "metadata": {},
   "outputs": [],
   "source": [
    "library('heavy')\n",
    "library('dplyr')"
   ]
  },
  {
   "cell_type": "code",
   "execution_count": 292,
   "metadata": {},
   "outputs": [],
   "source": [
    "l_max = 50 #cm\n",
    "l_min = 10 #cm\n",
    "k = 10\n",
    "n = 50\n",
    "d = 3"
   ]
  },
  {
   "cell_type": "code",
   "execution_count": 293,
   "metadata": {},
   "outputs": [],
   "source": [
    "## Generar la matriz X\n",
    "set.seed(0)\n",
    "X_pob = matrix(,1,3)\n",
    "R = runif(k,l_max-l_min,l_max+l_min)\n",
    "for (i in 1:k-1){\n",
    "    X_pob = rbind(X_pob,R[i]*rsphere(n,d))\n",
    "}\n",
    "A=as.data.frame(X_pob)[-1,]\n",
    "random= sample(1:nrow(A),size=n,replace=FALSE)\n",
    "X= A[random, ]"
   ]
  },
  {
   "cell_type": "code",
   "execution_count": 294,
   "metadata": {},
   "outputs": [],
   "source": [
    "## Ingresar Valores Y\n",
    "\n",
    "# Aquí se deben llenar los resultados"
   ]
  },
  {
   "cell_type": "code",
   "execution_count": 295,
   "metadata": {},
   "outputs": [],
   "source": [
    "set.seed(0)\n",
    "A = matrix(rnorm(9),3,3)\n",
    "b = matrix(rnorm(3),3,1)"
   ]
  },
  {
   "cell_type": "code",
   "execution_count": 296,
   "metadata": {},
   "outputs": [],
   "source": [
    "p = seq(1:10)\n",
    "Y = matrix(,1,3)\n",
    "sigma2 = (rnorm(1,0,p[1]))^2\n",
    "for (i in 1:dim(X)[1]){\n",
    "    y= A%*%t(X[i,]) + b + t(rmnorm(n = 1,mean = c(0,0,0),Sigma = sigma2*diag(1,3)))\n",
    "    Y = rbind(Y,t(y))\n",
    "}\n",
    "Y=as.data.frame(Y)[-1,]\n",
    "random= sample(1:nrow(Y),size=5,replace=FALSE)\n",
    "Y_def= Y[random, ]\n",
    "for (k in 2:10){\n",
    "    sigma2 = (rnorm(1,0,p[k]))^2\n",
    "    for (i in 1:dim(X)[1]){\n",
    "        y= A%*%t(X[i,]) + b + t(rmnorm(n = 1,mean = c(0,0,0),Sigma = sigma2*diag(1,3)))\n",
    "        Y = rbind(Y,t(y))\n",
    "    }\n",
    "}"
   ]
  },
  {
   "cell_type": "code",
   "execution_count": 297,
   "metadata": {},
   "outputs": [],
   "source": [
    "Y=rbind(Y[1:5,],\n",
    "Y[56:60,],\n",
    "Y[111:115,],\n",
    "Y[166:170,],\n",
    "Y[221:225,],\n",
    "Y[276:280,],\n",
    "Y[331:335,],\n",
    "Y[386:390,],\n",
    "Y[441:445,],\n",
    "Y[496:500,])"
   ]
  },
  {
   "cell_type": "code",
   "execution_count": 298,
   "metadata": {},
   "outputs": [],
   "source": [
    "X=as.matrix(X)\n",
    "Y=as.matrix(Y)"
   ]
  },
  {
   "cell_type": "code",
   "execution_count": 299,
   "metadata": {},
   "outputs": [
    {
     "data": {
      "text/plain": [
       "Call:\n",
       "heavyLm(formula = Y ~ X, family = Student(df = 2.54191))\n",
       "Converged in 53 iterations\n",
       "\n",
       "Coefficients:\n",
       "             V1      V2      V3     \n",
       "(Intercept)  1.7848  0.0014 -1.4146\n",
       "XV1          1.2708 -0.3377  1.3406\n",
       "XV2          1.2393  0.3994 -1.5337\n",
       "XV3         -0.9542 -0.3081 -0.0184\n",
       "\n",
       "Degrees of freedom: 50 total; 46 residual"
      ]
     },
     "metadata": {},
     "output_type": "display_data"
    }
   ],
   "source": [
    "heavyLm(Y~X)"
   ]
  },
  {
   "cell_type": "code",
   "execution_count": 300,
   "metadata": {},
   "outputs": [
    {
     "data": {
      "text/html": [
       "<table>\n",
       "<caption>A matrix: 3 × 3 of type dbl</caption>\n",
       "<tbody>\n",
       "\t<tr><td> 1.262954</td><td>-0.3262334</td><td> 1.329799263</td></tr>\n",
       "\t<tr><td> 1.272429</td><td> 0.4146414</td><td>-1.539950042</td></tr>\n",
       "\t<tr><td>-0.928567</td><td>-0.2947204</td><td>-0.005767173</td></tr>\n",
       "</tbody>\n",
       "</table>\n"
      ],
      "text/latex": [
       "A matrix: 3 × 3 of type dbl\n",
       "\\begin{tabular}{lll}\n",
       "\t  1.262954 & -0.3262334 &  1.329799263\\\\\n",
       "\t  1.272429 &  0.4146414 & -1.539950042\\\\\n",
       "\t -0.928567 & -0.2947204 & -0.005767173\\\\\n",
       "\\end{tabular}\n"
      ],
      "text/markdown": [
       "\n",
       "A matrix: 3 × 3 of type dbl\n",
       "\n",
       "|  1.262954 | -0.3262334 |  1.329799263 |\n",
       "|  1.272429 |  0.4146414 | -1.539950042 |\n",
       "| -0.928567 | -0.2947204 | -0.005767173 |\n",
       "\n"
      ],
      "text/plain": [
       "     [,1]      [,2]       [,3]        \n",
       "[1,]  1.262954 -0.3262334  1.329799263\n",
       "[2,]  1.272429  0.4146414 -1.539950042\n",
       "[3,] -0.928567 -0.2947204 -0.005767173"
      ]
     },
     "metadata": {},
     "output_type": "display_data"
    }
   ],
   "source": [
    "t(A)"
   ]
  },
  {
   "cell_type": "markdown",
   "metadata": {},
   "source": [
    "Nota que la estimación de A es bastante buena.\n",
    "Posteriormente definiremos indicadores que muestren lo buena que es la estimación."
   ]
  }
 ],
 "metadata": {
  "kernelspec": {
   "display_name": "R",
   "language": "R",
   "name": "ir"
  },
  "language_info": {
   "codemirror_mode": "r",
   "file_extension": ".r",
   "mimetype": "text/x-r-source",
   "name": "R",
   "pygments_lexer": "r",
   "version": "3.6.1"
  }
 },
 "nbformat": 4,
 "nbformat_minor": 4
}
