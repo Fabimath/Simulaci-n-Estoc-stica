{
 "cells": [
  {
   "cell_type": "markdown",
   "metadata": {},
   "source": [
    "# Selección de X"
   ]
  },
  {
   "cell_type": "code",
   "execution_count": null,
   "metadata": {},
   "outputs": [],
   "source": [
    "1: Inputs: l_max,l_min,k,n,d (d=2,3)\n",
    "2: # Generar una partición del radio admisible\n",
    "3: R = k simulaciones desde Unif~( l_max - l_min , l_max + l_min)\n",
    "4: # Generar datos aleatorios en una esfera de radio R[i]\n",
    "5: for (i in 1:(k-1)){\n",
    "6:      X_pob[i] = N simulaciones desde Unif~(S^d(R[i])) #Se puede realizar mediante Heavy\n",
    "7: }\n",
    "8: # Seleccionar una muestra de X_pob\n",
    "9: X = muestra aleatoria de tamaño n de X_pob\n",
    "10: return X"
   ]
  }
 ],
 "metadata": {
  "kernelspec": {
   "display_name": "R",
   "language": "R",
   "name": "ir"
  },
  "language_info": {
   "codemirror_mode": "r",
   "file_extension": ".r",
   "mimetype": "text/x-r-source",
   "name": "R",
   "pygments_lexer": "r",
   "version": "3.6.1"
  }
 },
 "nbformat": 4,
 "nbformat_minor": 4
}
