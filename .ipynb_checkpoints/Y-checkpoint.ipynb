{
 "cells": [
  {
   "cell_type": "markdown",
   "metadata": {},
   "source": [
    "# Simulación de Y"
   ]
  },
  {
   "cell_type": "code",
   "execution_count": null,
   "metadata": {},
   "outputs": [],
   "source": [
    "1: Input X\n",
    "2: p = seq(1:10, by =1)\n",
    "3: bases = list()\n",
    "4: for (k in 1:10){\n",
    "5:      for (i in 1:dim(X)[1]){\n",
    "6:            y= A%*%t(X[i,]) + b + t(rmnorm(n = 1,mean =  c(0,0,0),Sigma=sigma2[k]*diag(1,d)))\n",
    "7:            Yk = vec(Yk,y)\n",
    "8:       }\n",
    "9:     base[k] = Yk\n",
    "10: }\n",
    "11: Generar Y en función de Yk de forma aleatoria\n",
    "12: Output Y"
   ]
  }
 ],
 "metadata": {
  "kernelspec": {
   "display_name": "R",
   "language": "R",
   "name": "ir"
  },
  "language_info": {
   "codemirror_mode": "r",
   "file_extension": ".r",
   "mimetype": "text/x-r-source",
   "name": "R",
   "pygments_lexer": "r",
   "version": "3.6.1"
  }
 },
 "nbformat": 4,
 "nbformat_minor": 4
}
