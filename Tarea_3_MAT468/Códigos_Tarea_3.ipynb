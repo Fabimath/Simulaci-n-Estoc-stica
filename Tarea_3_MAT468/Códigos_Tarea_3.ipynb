{
 "cells": [
  {
   "cell_type": "markdown",
   "metadata": {},
   "source": [
    "# Tarea 3\n",
    "## Simulación Estocástica\n",
    "### Fabián Ramírez"
   ]
  },
  {
   "cell_type": "markdown",
   "metadata": {},
   "source": [
    "**Problema 1** Aplicar Algoritmo 3"
   ]
  },
  {
   "cell_type": "code",
   "execution_count": 3,
   "metadata": {},
   "outputs": [],
   "source": [
    "# Random walk sampler\n",
    "library('heavy')"
   ]
  },
  {
   "cell_type": "code",
   "execution_count": 4,
   "metadata": {},
   "outputs": [],
   "source": [
    "# Creamos un programa para generar la muestra:\n",
    "alg_3 = function(){\n",
    "k=1/20216.335877\n",
    "f = function(x) (\n",
    "    k*exp(\n",
    "        -(\n",
    "            (x[1]*x[2])^2 + (x[1])^2 + (x[2])^2 - 8*x[1] - 8*x[2]\n",
    "        )/2\n",
    "    )\n",
    ")\n",
    "t=1\n",
    "M=10^5\n",
    "xt = c(0.9242179,2.285951) # x1\n",
    "X1t = c(xt[1])\n",
    "Sigma = matrix(c(1,0,0,1), ncol = 2)\n",
    "while (t<M){\n",
    "    z = rmnorm(1,Sigma=Sigma)\n",
    "    y = xt + 2*z\n",
    "    p = min(f(y)/f(xt),1)\n",
    "    u = runif(1,0,1)\n",
    "    if (u<=p){\n",
    "        xt = y\n",
    "    } else {\n",
    "        xt = xt\n",
    "    }\n",
    "    X1t = cbind(X1t,xt[1])\n",
    "    # Agregar un paso\n",
    "    t=t+1\n",
    "}\n",
    "return(mean(X1t))\n",
    "}"
   ]
  },
  {
   "cell_type": "code",
   "execution_count": 5,
   "metadata": {},
   "outputs": [
    {
     "data": {
      "text/html": [
       "1.85053830658658"
      ],
      "text/latex": [
       "1.85053830658658"
      ],
      "text/markdown": [
       "1.85053830658658"
      ],
      "text/plain": [
       "[1] 1.850538"
      ]
     },
     "metadata": {},
     "output_type": "display_data"
    }
   ],
   "source": [
    "alg_3()"
   ]
  },
  {
   "cell_type": "code",
   "execution_count": 6,
   "metadata": {},
   "outputs": [
    {
     "data": {
      "text/html": [
       "1.86571509195835"
      ],
      "text/latex": [
       "1.86571509195835"
      ],
      "text/markdown": [
       "1.86571509195835"
      ],
      "text/plain": [
       "[1] 1.865715"
      ]
     },
     "metadata": {},
     "output_type": "display_data"
    }
   ],
   "source": [
    "alg_3()"
   ]
  },
  {
   "cell_type": "code",
   "execution_count": 7,
   "metadata": {},
   "outputs": [
    {
     "data": {
      "text/html": [
       "1.81950116666981"
      ],
      "text/latex": [
       "1.81950116666981"
      ],
      "text/markdown": [
       "1.81950116666981"
      ],
      "text/plain": [
       "[1] 1.819501"
      ]
     },
     "metadata": {},
     "output_type": "display_data"
    }
   ],
   "source": [
    "alg_3()"
   ]
  },
  {
   "cell_type": "markdown",
   "metadata": {},
   "source": [
    "**Problema 2** Aplicar Algoritmo 5"
   ]
  },
  {
   "cell_type": "code",
   "execution_count": 8,
   "metadata": {},
   "outputs": [
    {
     "data": {
      "text/html": [
       "<table>\n",
       "<caption>A matrix: 6 × 2 of type dbl</caption>\n",
       "<tbody>\n",
       "\t<tr><td>1.10000000</td><td>1.30000000</td></tr>\n",
       "\t<tr><td>1.83662456</td><td>2.19569574</td></tr>\n",
       "\t<tr><td>0.39294808</td><td>0.57522689</td></tr>\n",
       "\t<tr><td>3.51801876</td><td>4.01526220</td></tr>\n",
       "\t<tr><td>0.05119336</td><td>0.09264572</td></tr>\n",
       "\t<tr><td>3.28459306</td><td>3.30615516</td></tr>\n",
       "</tbody>\n",
       "</table>\n"
      ],
      "text/latex": [
       "A matrix: 6 × 2 of type dbl\n",
       "\\begin{tabular}{ll}\n",
       "\t 1.10000000 & 1.30000000\\\\\n",
       "\t 1.83662456 & 2.19569574\\\\\n",
       "\t 0.39294808 & 0.57522689\\\\\n",
       "\t 3.51801876 & 4.01526220\\\\\n",
       "\t 0.05119336 & 0.09264572\\\\\n",
       "\t 3.28459306 & 3.30615516\\\\\n",
       "\\end{tabular}\n"
      ],
      "text/markdown": [
       "\n",
       "A matrix: 6 × 2 of type dbl\n",
       "\n",
       "| 1.10000000 | 1.30000000 |\n",
       "| 1.83662456 | 2.19569574 |\n",
       "| 0.39294808 | 0.57522689 |\n",
       "| 3.51801876 | 4.01526220 |\n",
       "| 0.05119336 | 0.09264572 |\n",
       "| 3.28459306 | 3.30615516 |\n",
       "\n"
      ],
      "text/plain": [
       "     [,1]       [,2]      \n",
       "[1,] 1.10000000 1.30000000\n",
       "[2,] 1.83662456 2.19569574\n",
       "[3,] 0.39294808 0.57522689\n",
       "[4,] 3.51801876 4.01526220\n",
       "[5,] 0.05119336 0.09264572\n",
       "[6,] 3.28459306 3.30615516"
      ]
     },
     "metadata": {},
     "output_type": "display_data"
    }
   ],
   "source": [
    "Xt = rbind(c(1.1,1.3))\n",
    "M=10^5\n",
    "t=1\n",
    "while (t<=M){\n",
    "    z = rnorm(1)\n",
    "    a = 1/(1+Xt[t,1]^2)\n",
    "    yt = 4*a + z*sqrt(a)\n",
    "    b = 1/(1+Xt[t,2]^2)\n",
    "    xt = 4*b + z*sqrt(b)\n",
    "    Xt = rbind(Xt,c(xt,yt))\n",
    "    t=t+1\n",
    "}\n",
    "head(Xt)"
   ]
  },
  {
   "cell_type": "code",
   "execution_count": 9,
   "metadata": {},
   "outputs": [
    {
     "data": {
      "text/html": [
       "1.8617038766393"
      ],
      "text/latex": [
       "1.8617038766393"
      ],
      "text/markdown": [
       "1.8617038766393"
      ],
      "text/plain": [
       "[1] 1.861704"
      ]
     },
     "metadata": {},
     "output_type": "display_data"
    }
   ],
   "source": [
    "mean(Xt[,1])"
   ]
  }
 ],
 "metadata": {
  "kernelspec": {
   "display_name": "R",
   "language": "R",
   "name": "ir"
  },
  "language_info": {
   "codemirror_mode": "r",
   "file_extension": ".r",
   "mimetype": "text/x-r-source",
   "name": "R",
   "pygments_lexer": "r",
   "version": "3.6.1"
  }
 },
 "nbformat": 4,
 "nbformat_minor": 4
}
