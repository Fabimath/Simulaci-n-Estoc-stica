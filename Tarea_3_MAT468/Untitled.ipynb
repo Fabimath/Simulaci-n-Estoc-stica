{
 "cells": [
  {
   "cell_type": "markdown",
   "metadata": {},
   "source": [
    "# Tarea 3\n",
    "## Simulación Estocástica\n",
    "### Fabián Ramírez"
   ]
  },
  {
   "cell_type": "markdown",
   "metadata": {},
   "source": [
    "**Problema 1** Generar datos provenientes de una caminata aleatoria"
   ]
  },
  {
   "cell_type": "code",
   "execution_count": 3,
   "metadata": {},
   "outputs": [],
   "source": [
    "# Random walk sampler\n",
    "library('heavy')"
   ]
  },
  {
   "cell_type": "code",
   "execution_count": 5,
   "metadata": {},
   "outputs": [],
   "source": [
    "# Iniciar x1= (x11,x12), hacer t= 1\n",
    "x1 = c(0,0)"
   ]
  },
  {
   "cell_type": "code",
   "execution_count": 5,
   "metadata": {},
   "outputs": [
    {
     "ename": "ERROR",
     "evalue": "Error in rmnorm(n = 1, mean = c(0, 0), Sigma = diag(length(mean))): mean and sigma have non-conforming size\n",
     "output_type": "error",
     "traceback": [
      "Error in rmnorm(n = 1, mean = c(0, 0), Sigma = diag(length(mean))): mean and sigma have non-conforming size\nTraceback:\n",
      "1. rmnorm(n = 1, mean = c(0, 0), Sigma = diag(length(mean)))",
      "2. stop(\"mean and sigma have non-conforming size\")"
     ]
    }
   ],
   "source": [
    "# Simular z= (z1,z2)∼ N2(0,I) independientemente\n",
    "z = rmnorm(n=1,mean=c(0,0),Sigma = diag(length(mean)))"
   ]
  },
  {
   "cell_type": "code",
   "execution_count": 4,
   "metadata": {},
   "outputs": [
    {
     "ename": "ERROR",
     "evalue": "Error in nrow(Sigma): objeto 'Sigma' no encontrado\n",
     "output_type": "error",
     "traceback": [
      "Error in nrow(Sigma): objeto 'Sigma' no encontrado\nTraceback:\n",
      "1. rmnorm(n = 1, mean = rep(0, nrow(Sigma)), Sigma = diag(length(mean)))",
      "2. nrow(Sigma)"
     ]
    }
   ],
   "source": [
    "rmnorm(n = 1, mean = rep(0, nrow(Sigma)), Sigma = diag(length(mean)))"
   ]
  }
 ],
 "metadata": {
  "kernelspec": {
   "display_name": "R",
   "language": "R",
   "name": "ir"
  },
  "language_info": {
   "codemirror_mode": "r",
   "file_extension": ".r",
   "mimetype": "text/x-r-source",
   "name": "R",
   "pygments_lexer": "r",
   "version": "4.0.2"
  }
 },
 "nbformat": 4,
 "nbformat_minor": 4
}
